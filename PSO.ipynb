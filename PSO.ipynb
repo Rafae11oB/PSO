{
 "cells": [
  {
   "cell_type": "code",
   "execution_count": 44,
   "id": "6d5136a1-954d-42c2-b113-50a1e553d5f3",
   "metadata": {},
   "outputs": [],
   "source": [
    "import numpy as np\n",
    "import matplotlib.pyplot as plt\n",
    "import matplotlib.animation as animation\n",
    "from IPython.display import HTML"
   ]
  },
  {
   "cell_type": "code",
   "execution_count": 45,
   "id": "8b3f4183-8964-41c3-b8f7-386ca2c0630f",
   "metadata": {},
   "outputs": [],
   "source": [
    "# Constants\n",
    "NUM_PARTICLES = 20\n",
    "SPACE_SIZE = 100\n",
    "RADIATION_SOURCE = np.random.uniform(0, SPACE_SIZE, 2)\n",
    "MAX_ITERATIONS = 20\n",
    "THRESHOLD = 1.0\n",
    "C = 1000  # Radiation constant\n",
    "W = 0.5  # Inertia weight\n",
    "C1 = 1.5  # Personal attraction coefficient\n",
    "C2 = 1.5  # Global attraction coefficient"
   ]
  },
  {
   "cell_type": "code",
   "execution_count": 46,
   "id": "2ccc6dd3-4567-40ae-a268-15599867f32d",
   "metadata": {},
   "outputs": [],
   "source": [
    "# Particle class\n",
    "class Particle:\n",
    "    def __init__(self):\n",
    "        self.position = np.random.uniform(0, SPACE_SIZE, 2)\n",
    "        self.velocity = np.random.uniform(-1, 1, 2)\n",
    "        self.personal_best_position = np.copy(self.position)\n",
    "        self.best_radiation = self.get_radiation()\n",
    "\n",
    "    def get_radiation(self):\n",
    "        distance = np.linalg.norm(self.position - RADIATION_SOURCE)\n",
    "        if distance == 0:\n",
    "            return float('inf')\n",
    "        return C / (distance ** 2)\n",
    "\n",
    "    def update_personal_best(self):\n",
    "        current_radiation = self.get_radiation()\n",
    "        if current_radiation > self.best_radiation:\n",
    "            self.personal_best_position = np.copy(self.position)\n",
    "            self.best_radiation = current_radiation\n",
    "\n",
    "    def update_velocity(self, global_best_position):\n",
    "        r1, r2 = np.random.rand(2)\n",
    "        cognitive_component = C1 * r1 * (self.personal_best_position - self.position)\n",
    "        social_component = C2 * r2 * (global_best_position - self.position)\n",
    "        self.velocity = W * self.velocity + cognitive_component + social_component\n",
    "\n",
    "    def update_position(self):\n",
    "        self.position += self.velocity\n",
    "        self.position = np.clip(self.position, 0, SPACE_SIZE)"
   ]
  },
  {
   "cell_type": "code",
   "execution_count": 53,
   "id": "35eb4d1e-9dab-4625-bdfd-3e20bf0f13e2",
   "metadata": {},
   "outputs": [],
   "source": [
    "# Initialize particles\n",
    "particles = [Particle() for _ in range(NUM_PARTICLES)]"
   ]
  },
  {
   "cell_type": "code",
   "execution_count": 54,
   "id": "86984ad4-edc8-46f6-9ef2-036a2ced3e41",
   "metadata": {},
   "outputs": [],
   "source": [
    "# PSO implementation\n",
    "def particle_swarm_optimization():\n",
    "    global_best_position = max(particles, key=lambda p: p.best_radiation).personal_best_position\n",
    "    global_best_radiation = max(particles, key=lambda p: p.best_radiation).best_radiation\n",
    "\n",
    "    fig, ax = plt.subplots()\n",
    "    scatter_particles = ax.scatter([], [], color='blue', label='Particles')\n",
    "    scatter_gbest = ax.scatter([], [], color='green', marker='o', label='Global Best')\n",
    "    scatter_source = ax.scatter(*RADIATION_SOURCE, color='red', marker='x', label='Radiation Source')\n",
    "\n",
    "    def init():\n",
    "        ax.set_xlim(0, SPACE_SIZE)\n",
    "        ax.set_ylim(0, SPACE_SIZE)\n",
    "        ax.legend()\n",
    "        return scatter_particles, scatter_gbest, scatter_source\n",
    "\n",
    "    def update(frame):\n",
    "        nonlocal global_best_position, global_best_radiation\n",
    "\n",
    "        previous_global_best_radiation = global_best_radiation\n",
    "\n",
    "        for particle in particles:\n",
    "            particle.update_velocity(global_best_position)\n",
    "            particle.update_position()\n",
    "            particle.update_personal_best()\n",
    "\n",
    "        # Update global best\n",
    "        current_global_best_particle = max(particles, key=lambda p: p.best_radiation)\n",
    "        if current_global_best_particle.best_radiation > global_best_radiation:\n",
    "            global_best_position = current_global_best_particle.personal_best_position\n",
    "            global_best_radiation = current_global_best_particle.best_radiation\n",
    "\n",
    "        # Update scatter plot data\n",
    "        positions = np.array([particle.position for particle in particles])\n",
    "        scatter_particles.set_offsets(positions)\n",
    "        scatter_gbest.set_offsets(global_best_position)\n",
    "\n",
    "        ax.set_title(f'Iteration {frame + 1}')\n",
    "\n",
    "        # Check termination condition\n",
    "        if np.linalg.norm(global_best_position - RADIATION_SOURCE) < THRESHOLD:\n",
    "            ani.event_source.stop()\n",
    "            return scatter_particles, scatter_gbest\n",
    "\n",
    "        # Check if all particles are within the threshold distance to the source\n",
    "        if all(np.linalg.norm(particle.position - RADIATION_SOURCE) < THRESHOLD for particle in particles):\n",
    "            ani.event_source.stop()\n",
    "\n",
    "        # Check if global best radiation has stopped improving\n",
    "        if global_best_radiation == previous_global_best_radiation:\n",
    "            ani.event_source.stop()\n",
    "\n",
    "        return scatter_particles, scatter_gbest\n",
    "\n",
    "    ani = animation.FuncAnimation(fig, update, frames=MAX_ITERATIONS, init_func=init, blit=True, repeat=False)\n",
    "    plt.close(fig)\n",
    "    return ani"
   ]
  },
  {
   "cell_type": "code",
   "execution_count": 55,
   "id": "7379032a-4092-464f-b28b-b7d6b50b6dc6",
   "metadata": {},
   "outputs": [],
   "source": [
    "# Run PSO and display animation\n",
    "ani = particle_swarm_optimization()\n",
    "ani.save('particle_swarm_optimization.gif', writer='pillow')\n",
    "# HTML(ani.to_jshtml())"
   ]
  }
 ],
 "metadata": {
  "kernelspec": {
   "display_name": "Python 3 (ipykernel)",
   "language": "python",
   "name": "python3"
  },
  "language_info": {
   "codemirror_mode": {
    "name": "ipython",
    "version": 3
   },
   "file_extension": ".py",
   "mimetype": "text/x-python",
   "name": "python",
   "nbconvert_exporter": "python",
   "pygments_lexer": "ipython3",
   "version": "3.12.7"
  }
 },
 "nbformat": 4,
 "nbformat_minor": 5
}
